{
 "cells": [
  {
   "cell_type": "code",
   "execution_count": 1,
   "metadata": {
    "collapsed": true
   },
   "outputs": [],
   "source": [
    "%matplotlib inline\n",
    "\n",
    "import os\n",
    "import numpy as np\n",
    "from deepsign.rp.index import TrieSignIndex as Index\n",
    "from deepsign.io.datasets.wordsim import WordSim353Reader\n",
    "import matplotlib.pyplot as plt\n",
    "\n",
    "from scipy.stats import spearmanr\n",
    "\n",
    "\n",
    "from deepsign.utils.measure import cosine\n",
    "\n",
    "\n",
    "# model params\n",
    "k = 1000\n",
    "s = 10\n",
    "h_dim = 300\n",
    "\n",
    "home = os.getenv(\"HOME\")\n",
    "data_dir = home + \"/data/datasets/\"\n",
    "result_dir = home + \"/data/results/nrp/sparsemax/\"\n",
    "\n",
    "model_suffix = \"{k}_{s}_h{h}\".format(k=k,s=s,h=h_dim)\n",
    "index_file = result_dir + \"index_\"+model_suffix+\".hdf5\"\n",
    "model_file = result_dir + \"model_\"+model_suffix\n",
    "embeddings_file = result_dir + \"embeddings_\"+model_suffix+\".npy\""
   ]
  },
  {
   "cell_type": "code",
   "execution_count": 2,
   "metadata": {},
   "outputs": [],
   "source": [
    "# load index\n",
    "index = Index.load(index_file)"
   ]
  },
  {
   "cell_type": "code",
   "execution_count": 3,
   "metadata": {},
   "outputs": [],
   "source": [
    "# load embeddings\n",
    "embeddings = np.load(embeddings_file)\n",
    "\n",
    "def get_vector(word):\n",
    "    word_ri = index.get_ri(word).to_vector()\n",
    "    return np.matmul(word_ri, embeddings)"
   ]
  },
  {
   "cell_type": "markdown",
   "metadata": {},
   "source": [
    "# WordSim353 Correlation"
   ]
  },
  {
   "cell_type": "code",
   "execution_count": 4,
   "metadata": {
    "collapsed": true
   },
   "outputs": [
    {
     "name": "stdout",
     "output_type": "stream",
     "text": [
      "rel correlation:  SpearmanrResult(correlation=-0.024370367199780394, pvalue=0.70023638078554495)\n"
     ]
    },
    {
     "name": "stdout",
     "output_type": "stream",
     "text": [
      "sim correlation:  SpearmanrResult(correlation=-0.078043745576151638, pvalue=0.26839134011290816)\n"
     ]
    }
   ],
   "source": [
    "# load toefl\n",
    "print_questions = False\n",
    "sim_file = data_dir + \"wordsim/sim.csv\"\n",
    "rel_file = data_dir + \"wordsim/rel.csv\"\n",
    "\n",
    "wordsim = WordSim353Reader(sim_file,rel_file)\n",
    "\n",
    "\n",
    "#queen = get_vector(\"queen\")\n",
    "#majesty = get_vector(\"majesty\")\n",
    "#print(cosine(queen,majesty))\n",
    "#r = spearmanr([1,2,3,4,5],[1,2,3,4,5])\n",
    "#print(r)\n",
    "\n",
    "rel_in_corpus = [(w1,w2,score) for (w1,w2,score) in wordsim.rel if index.contains(w1) and index.contains(w2)]\n",
    "model_scores = [cosine(get_vector(w1),get_vector(w2)) for (w1,w2,_) in rel_in_corpus]\n",
    "gold_scores = [score for (_,_,score) in rel_in_corpus]\n",
    "rel_correlation = spearmanr(model_scores,gold_scores)\n",
    "print(\"rel correlation: \",rel_correlation)\n",
    "\n",
    "sim_in_corpus = [(w1,w2,score) for (w1,w2,score) in wordsim.sim if index.contains(w1) and index.contains(w2)]\n",
    "model_scores = [cosine(get_vector(w1),get_vector(w2)) for (w1,w2,_) in sim_in_corpus]\n",
    "gold_scores = [score for (_,_,score) in sim_in_corpus]\n",
    "sim_correlation = spearmanr(model_scores,gold_scores)\n",
    "print(\"sim correlation: \",sim_correlation)"
   ]
  },
  {
   "cell_type": "code",
   "execution_count": null,
   "metadata": {},
   "outputs": [],
   "source": [
    ""
   ]
  }
 ],
 "metadata": {
  "kernelspec": {
   "display_name": "Python 2",
   "language": "python",
   "name": "python2"
  },
  "language_info": {
   "codemirror_mode": {
    "name": "ipython",
    "version": 2.0
   },
   "file_extension": ".py",
   "mimetype": "text/x-python",
   "name": "python",
   "nbconvert_exporter": "python",
   "pygments_lexer": "ipython2",
   "version": "2.7.6"
  }
 },
 "nbformat": 4,
 "nbformat_minor": 0
}