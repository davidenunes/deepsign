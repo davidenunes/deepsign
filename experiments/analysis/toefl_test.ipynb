{
 "cells": [
  {
   "cell_type": "code",
   "execution_count": 1,
   "metadata": {
    "collapsed": true
   },
   "outputs": [],
   "source": [
    "%matplotlib inline\n",
    "\n",
    "import os\n",
    "import numpy as np\n",
    "from deepsign.rp.index import TrieSignIndex as Index\n",
    "from deepsign.io.datasets.toefl import TOEFLReader\n",
    "import seaborn as sns\n",
    "import matplotlib.pyplot as plt\n",
    "import pandas as pd\n",
    "\n",
    "\n",
    "from sklearn.decomposition import PCA\n",
    "from deepsign.utils.measure import cosine\n",
    "\n",
    "\n",
    "# model dir\n",
    "home = os.getenv(\"HOME\")\n",
    "data_dir = home + \"/data/datasets/\"\n",
    "result_dir = home + \"/data/results/\"\n",
    "model_dir = result_dir + \"\"\n",
    "model_file = model_dir + \"model_bnc\"\n",
    "embeddings_file = model_dir + \"embeddings.npy\"\n",
    "index_file = model_dir + \"index.hdf5\""
   ]
  },
  {
   "cell_type": "code",
   "execution_count": 2,
   "metadata": {},
   "outputs": [],
   "source": [
    "# load index\n",
    "index = Index.load(index_file)"
   ]
  },
  {
   "cell_type": "code",
   "execution_count": 3,
   "metadata": {},
   "outputs": [],
   "source": [
    "# load embeddings\n",
    "embeddings = np.load(embeddings_file)\n",
    "\n",
    "def get_vector(word):\n",
    "    word_ri = index.get_ri(word).to_vector()\n",
    "    return np.matmul(word_ri, embeddings)"
   ]
  },
  {
   "cell_type": "markdown",
   "metadata": {},
   "source": [
    "# TOEFL Synonym test"
   ]
  },
  {
   "cell_type": "code",
   "execution_count": 5,
   "metadata": {
    "collapsed": true
   },
   "outputs": [
    {
     "name": "stdout",
     "output_type": "stream",
     "text": [
      "Model Accuracy:  26.582278481012654\n"
     ]
    }
   ],
   "source": [
    "# load toefl\n",
    "print_questions = False\n",
    "questions_file = data_dir + \"toefl/questions.csv\"\n",
    "answers_file = data_dir + \"toefl/answers.csv\"\n",
    "\n",
    "toefl = TOEFLReader(questions_file=questions_file, answers_file=answers_file)\n",
    "\n",
    "num_correct = 0\n",
    "num_questions = 0\n",
    "# words in toelf and not in index\n",
    "toefl_remove = set(w for w in toefl.words if not index.contains(w))\n",
    "for (i, question) in enumerate(toefl.questions):\n",
    "    question_w = question[0]\n",
    "    answer_ws = question[1]\n",
    "    # print(question)\n",
    "    answer_index = toefl.answer(i)\n",
    "    # print(aw[answer])\n",
    "\n",
    "    words = set([question_w] + answer_ws)\n",
    "\n",
    "    # ignore questions for wich we have no word data\n",
    "    if words.isdisjoint(toefl_remove):\n",
    "        # question word vector\n",
    "        question_vector = get_vector(question_w)\n",
    "        answer_vectors = [get_vector(word) for word in answer_ws]\n",
    "        sims = [cosine(question_vector,v) for v in answer_vectors]\n",
    "        model_answer = answer_ws[np.argmax(sims)]\n",
    "\n",
    "        if print_questions:\n",
    "            print(\"question \",i+1)\n",
    "            print(\"word:\", question_w)\n",
    "            print(\"correct: \",answer_ws[answer_w])\n",
    "            print(\"model answer: \",answer_index)\n",
    "            print(\"=\"*80)\n",
    "\n",
    "        num_questions += 1\n",
    "        if model_answer == answer_ws[answer_index]:\n",
    "            num_correct += 1\n",
    "\n",
    "accuracy = num_correct / num_questions * 100\n",
    "print(\"Model Accuracy: \",accuracy)"
   ]
  },
  {
   "cell_type": "code",
   "execution_count": null,
   "metadata": {},
   "outputs": [],
   "source": [
    ""
   ]
  }
 ],
 "metadata": {
  "kernelspec": {
   "display_name": "Python 2",
   "language": "python",
   "name": "python2"
  },
  "language_info": {
   "codemirror_mode": {
    "name": "ipython",
    "version": 2.0
   },
   "file_extension": ".py",
   "mimetype": "text/x-python",
   "name": "python",
   "nbconvert_exporter": "python",
   "pygments_lexer": "ipython2",
   "version": "2.7.6"
  }
 },
 "nbformat": 4,
 "nbformat_minor": 0
}