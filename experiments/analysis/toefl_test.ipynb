{
 "cells": [
  {
   "cell_type": "code",
   "execution_count": 2,
   "metadata": {
    "collapsed": true
   },
   "outputs": [],
   "source": [
    "%matplotlib inline\n",
    "\n",
    "import os\n",
    "import numpy as np\n",
    "from deepsign.rp.index import TrieSignIndex as Index\n",
    "from deepsign.io.datasets.toefl import TOEFLReader\n",
    "import seaborn as sns\n",
    "import matplotlib.pyplot as plt\n",
    "import pandas as pd\n",
    "\n",
    "\n",
    "from sklearn.decomposition import PCA\n",
    "from deepsign.utils.measure import cosine\n",
    "\n",
    "\n",
    "# model dir\n",
    "home = os.getenv(\"HOME\")\n",
    "data_dir = home + \"/data/datasets/\"\n",
    "result_dir = home + \"/data/results/\"\n",
    "model_dir = result_dir + \"nrp/300d_reg_all/\"\n",
    "model_file = model_dir + \"model_bnc\"\n",
    "embeddings_file = model_dir + \"embeddings.npy\"\n",
    "index_file = model_dir + \"index.hdf5\""
   ]
  },
  {
   "cell_type": "code",
   "execution_count": 4,
   "metadata": {},
   "outputs": [
    {
     "name": "stderr",
     "output_type": "stream",
     "text": [
      "\r  0%|          | 0/468560 [00:00<?, ?it/s]"
     ]
    },
    {
     "name": "stderr",
     "output_type": "stream",
     "text": [
      "\r  2%|▏         | 7843/468560 [00:00<00:05, 78421.85it/s]"
     ]
    },
    {
     "name": "stderr",
     "output_type": "stream",
     "text": [
      "\r  4%|▍         | 18645/468560 [00:00<00:05, 85444.74it/s]"
     ]
    },
    {
     "name": "stderr",
     "output_type": "stream",
     "text": [
      "\r  6%|▌         | 28210/468560 [00:00<00:04, 88269.54it/s]"
     ]
    },
    {
     "name": "stderr",
     "output_type": "stream",
     "text": [
      "\r  8%|▊         | 37492/468560 [00:00<00:04, 89586.85it/s]"
     ]
    },
    {
     "name": "stderr",
     "output_type": "stream",
     "text": [
      "\r 10%|▉         | 44680/468560 [00:00<00:07, 57239.46it/s]"
     ]
    },
    {
     "name": "stderr",
     "output_type": "stream",
     "text": [
      "\r 11%|█▏        | 52861/468560 [00:00<00:06, 62906.12it/s]"
     ]
    },
    {
     "name": "stderr",
     "output_type": "stream",
     "text": [
      "\r 13%|█▎        | 61168/468560 [00:00<00:06, 67846.34it/s]"
     ]
    },
    {
     "name": "stderr",
     "output_type": "stream",
     "text": [
      "\r 15%|█▌        | 71367/468560 [00:00<00:05, 75420.87it/s]"
     ]
    },
    {
     "name": "stderr",
     "output_type": "stream",
     "text": [
      "\r 17%|█▋        | 80174/468560 [00:01<00:04, 78813.30it/s]"
     ]
    },
    {
     "name": "stderr",
     "output_type": "stream",
     "text": [
      "\r 19%|█▉        | 90289/468560 [00:01<00:04, 84403.39it/s]"
     ]
    },
    {
     "name": "stderr",
     "output_type": "stream",
     "text": [
      "\r 22%|██▏       | 102167/468560 [00:01<00:03, 92426.07it/s]"
     ]
    },
    {
     "name": "stderr",
     "output_type": "stream",
     "text": [
      "\r 24%|██▍       | 111911/468560 [00:01<00:03, 89653.33it/s]"
     ]
    },
    {
     "name": "stderr",
     "output_type": "stream",
     "text": [
      "\r 26%|██▌       | 121884/468560 [00:01<00:03, 92455.37it/s]"
     ]
    },
    {
     "name": "stderr",
     "output_type": "stream",
     "text": [
      "\r 29%|██▊       | 133571/468560 [00:01<00:03, 98636.39it/s]"
     ]
    },
    {
     "name": "stderr",
     "output_type": "stream",
     "text": [
      "\r 31%|███       | 144329/468560 [00:01<00:03, 101154.87it/s]"
     ]
    },
    {
     "name": "stderr",
     "output_type": "stream",
     "text": [
      "\r 33%|███▎      | 154678/468560 [00:01<00:03, 91364.10it/s] "
     ]
    },
    {
     "name": "stderr",
     "output_type": "stream",
     "text": [
      "\r 35%|███▌      | 164920/468560 [00:01<00:03, 94419.77it/s]"
     ]
    },
    {
     "name": "stderr",
     "output_type": "stream",
     "text": [
      "\r 37%|███▋      | 174763/468560 [00:01<00:03, 94181.81it/s]"
     ]
    },
    {
     "name": "stderr",
     "output_type": "stream",
     "text": [
      "\r 40%|███▉      | 186507/468560 [00:02<00:02, 100128.40it/s]"
     ]
    },
    {
     "name": "stderr",
     "output_type": "stream",
     "text": [
      "\r 42%|████▏     | 196754/468560 [00:02<00:02, 95987.10it/s] "
     ]
    },
    {
     "name": "stderr",
     "output_type": "stream",
     "text": [
      "\r 44%|████▍     | 206553/468560 [00:02<00:03, 68400.99it/s]"
     ]
    },
    {
     "name": "stderr",
     "output_type": "stream",
     "text": [
      "\r 46%|████▋     | 217266/468560 [00:02<00:03, 76721.34it/s]"
     ]
    },
    {
     "name": "stderr",
     "output_type": "stream",
     "text": [
      "\r 49%|████▉     | 229069/468560 [00:02<00:02, 85718.93it/s]"
     ]
    },
    {
     "name": "stderr",
     "output_type": "stream",
     "text": [
      "\r 51%|█████     | 238822/468560 [00:02<00:02, 80105.55it/s]"
     ]
    },
    {
     "name": "stderr",
     "output_type": "stream",
     "text": [
      "\r 53%|█████▎    | 247992/468560 [00:02<00:02, 83262.51it/s]"
     ]
    },
    {
     "name": "stderr",
     "output_type": "stream",
     "text": [
      "\r 55%|█████▍    | 256981/468560 [00:02<00:02, 85033.10it/s]"
     ]
    },
    {
     "name": "stderr",
     "output_type": "stream",
     "text": [
      "\r 57%|█████▋    | 267542/468560 [00:03<00:02, 90310.62it/s]"
     ]
    },
    {
     "name": "stderr",
     "output_type": "stream",
     "text": [
      "\r 59%|█████▉    | 276994/468560 [00:03<00:02, 88851.37it/s]"
     ]
    },
    {
     "name": "stderr",
     "output_type": "stream",
     "text": [
      "\r 61%|██████    | 286179/468560 [00:03<00:02, 87697.13it/s]"
     ]
    },
    {
     "name": "stderr",
     "output_type": "stream",
     "text": [
      "\r 63%|██████▎   | 295601/468560 [00:03<00:01, 89555.65it/s]"
     ]
    },
    {
     "name": "stderr",
     "output_type": "stream",
     "text": [
      "\r 65%|██████▌   | 305924/468560 [00:03<00:01, 93260.83it/s]"
     ]
    },
    {
     "name": "stderr",
     "output_type": "stream",
     "text": [
      "\r 67%|██████▋   | 315654/468560 [00:03<00:01, 94433.41it/s]"
     ]
    },
    {
     "name": "stderr",
     "output_type": "stream",
     "text": [
      "\r 70%|██████▉   | 326137/468560 [00:03<00:01, 97326.21it/s]"
     ]
    },
    {
     "name": "stderr",
     "output_type": "stream",
     "text": [
      "\r 72%|███████▏  | 335969/468560 [00:03<00:01, 92062.15it/s]"
     ]
    },
    {
     "name": "stderr",
     "output_type": "stream",
     "text": [
      "\r 74%|███████▍  | 345773/468560 [00:03<00:01, 93775.89it/s]"
     ]
    },
    {
     "name": "stderr",
     "output_type": "stream",
     "text": [
      "\r 76%|███████▌  | 355249/468560 [00:04<00:01, 89610.16it/s]"
     ]
    },
    {
     "name": "stderr",
     "output_type": "stream",
     "text": [
      "\r 78%|███████▊  | 367051/468560 [00:04<00:01, 96584.23it/s]"
     ]
    },
    {
     "name": "stderr",
     "output_type": "stream",
     "text": [
      "\r 80%|████████  | 376940/468560 [00:04<00:01, 91154.82it/s]"
     ]
    },
    {
     "name": "stderr",
     "output_type": "stream",
     "text": [
      "\r 83%|████████▎ | 387627/468560 [00:04<00:00, 95358.24it/s]"
     ]
    },
    {
     "name": "stderr",
     "output_type": "stream",
     "text": [
      "\r 85%|████████▍ | 397371/468560 [00:04<00:01, 66549.55it/s]"
     ]
    },
    {
     "name": "stderr",
     "output_type": "stream",
     "text": [
      "\r 87%|████████▋ | 407972/468560 [00:04<00:00, 74913.92it/s]"
     ]
    },
    {
     "name": "stderr",
     "output_type": "stream",
     "text": [
      "\r 89%|████████▉ | 418182/468560 [00:04<00:00, 81416.89it/s]"
     ]
    },
    {
     "name": "stderr",
     "output_type": "stream",
     "text": [
      "\r 92%|█████████▏| 430299/468560 [00:04<00:00, 90304.92it/s]"
     ]
    },
    {
     "name": "stderr",
     "output_type": "stream",
     "text": [
      "\r 94%|█████████▍| 442246/468560 [00:05<00:00, 97439.45it/s]"
     ]
    },
    {
     "name": "stderr",
     "output_type": "stream",
     "text": [
      "\r 97%|█████████▋| 452885/468560 [00:05<00:00, 95095.06it/s]"
     ]
    },
    {
     "name": "stderr",
     "output_type": "stream",
     "text": [
      "\r 99%|█████████▉| 464068/468560 [00:05<00:00, 99562.15it/s]"
     ]
    },
    {
     "name": "stderr",
     "output_type": "stream",
     "text": [
      "\r100%|██████████| 468560/468560 [00:05<00:00, 88619.75it/s]"
     ]
    },
    {
     "name": "stderr",
     "output_type": "stream",
     "text": [
      "\n"
     ]
    }
   ],
   "source": [
    "# load index\n",
    "index = Index.load(index_file)"
   ]
  },
  {
   "cell_type": "code",
   "execution_count": 7,
   "metadata": {},
   "outputs": [],
   "source": [
    "# load embeddings\n",
    "embeddings = np.load(embeddings_file)\n",
    "\n",
    "def get_vector(word):\n",
    "    word_ri = index.get_ri(word).to_vector()\n",
    "    return np.matmul(word_ri, embeddings)"
   ]
  },
  {
   "cell_type": "markdown",
   "metadata": {},
   "source": [
    "# TOEFL Synonym test"
   ]
  },
  {
   "cell_type": "code",
   "execution_count": 8,
   "metadata": {},
   "outputs": [
    {
     "name": "stdout",
     "output_type": "stream",
     "text": [
      "================================================================================\nquestion  1\nword: enormously\ncorrect:  tremendously\nmodel answer:  tremendously\n================================================================================\nquestion  2\nword: provisions\ncorrect:  stipulations\nmodel answer:  interrelations\n================================================================================\nquestion  3\nword: haphazardly\ncorrect:  randomly\nmodel answer:  randomly\n================================================================================\nquestion  4\nword: prominent\ncorrect:  conspicuous\nmodel answer:  conspicuous\n================================================================================\nquestion  5\nword: zenith\ncorrect:  pinnacle\nmodel answer:  completion\n================================================================================\nquestion  6\nword: flawed\ncorrect:  imperfect\nmodel answer:  lustrous\n================================================================================\nquestion  7\nword: urgently\ncorrect:  desperately\nmodel answer:  conceivably\n================================================================================\nquestion  8\nword: consumed\ncorrect:  eaten\nmodel answer:  bred\n================================================================================\nquestion  9\nword: advent\ncorrect:  coming\nmodel answer:  stability\n================================================================================\nquestion  10\nword: concisely\ncorrect:  succinctly\nmodel answer:  succinctly\n================================================================================\nquestion  11\nword: salutes\ncorrect:  greetings\nmodel answer:  ceremonies\n================================================================================\nquestion  12\nword: solitary\ncorrect:  alone\nmodel answer:  alone\n================================================================================\nquestion  13\nword: hasten\ncorrect:  accelerate\nmodel answer:  accompany\n================================================================================\nquestion  14\nword: perseverance\ncorrect:  endurance\nmodel answer:  skill\n================================================================================\nquestion  15\nword: fanciful\ncorrect:  imaginative\nmodel answer:  familiar\n================================================================================\nquestion  16\nword: showed\ncorrect:  demonstrated\nmodel answer:  published\n================================================================================\nquestion  17\nword: constantly\ncorrect:  continually\nmodel answer:  instantly\n================================================================================\nquestion  18\nword: issues\ncorrect:  subjects\nmodel answer:  training\n================================================================================\nquestion  19\nword: furnish\ncorrect:  supply\nmodel answer:  impress\n================================================================================\nquestion  20\nword: costly\ncorrect:  expensive\nmodel answer:  expensive\n================================================================================\nquestion  21\nword: recognized\ncorrect:  acknowledged\nmodel answer:  acknowledged\n================================================================================\nquestion  22\nword: spot\ncorrect:  location\nmodel answer:  location\n================================================================================\nquestion  23\nword: make\ncorrect:  earn\nmodel answer:  borrow\n================================================================================\nquestion  24\nword: often\ncorrect:  frequently\nmodel answer:  definitely\n================================================================================\nquestion  25\nword: easygoing\ncorrect:  relaxed\nmodel answer:  farming\n================================================================================\nquestion  26\n"
     ]
    },
    {
     "name": "stdout",
     "output_type": "stream",
     "text": [
      "word: debate\ncorrect:  argument\nmodel answer:  election\n================================================================================\nquestion  27\nword: narrow\ncorrect:  thin\nmodel answer:  freezing\n================================================================================\nquestion  28\nword: arranged\ncorrect:  planned\nmodel answer:  planned\n================================================================================\nquestion  29\nword: infinite\ncorrect:  limitless\nmodel answer:  unusual\n================================================================================\nquestion  30\nword: showy\ncorrect:  striking\nmodel answer:  incidental\n================================================================================\nquestion  31\nword: levied\ncorrect:  imposed\nmodel answer:  correlated\n================================================================================\nquestion  32\nword: deftly\ncorrect:  skillfully\nmodel answer:  occasionally\n================================================================================\nquestion  33\nword: distribute\ncorrect:  circulate\nmodel answer:  research\n================================================================================\nquestion  34\nword: discrepancies\ncorrect:  differences\nmodel answer:  differences\n================================================================================\nquestion  35\nword: prolific\ncorrect:  productive\nmodel answer:  capable\n================================================================================\nquestion  37\nword: peculiarly\ncorrect:  uniquely\nmodel answer:  uniquely\n================================================================================\nquestion  38\nword: hue\ncorrect:  color\nmodel answer:  color\n================================================================================\nquestion  39\nword: hind\ncorrect:  rear\nmodel answer:  muscular\n================================================================================\nquestion  40\nword: highlight\ncorrect:  accentuate\nmodel answer:  accentuate\n================================================================================\nquestion  41\nword: hastily\ncorrect:  hurriedly\nmodel answer:  "
     ]
    },
    {
     "name": "stdout",
     "output_type": "stream",
     "text": [
      "hurriedly\n================================================================================\nquestion  42\nword: temperate\ncorrect:  mild\nmodel answer:  windy\n================================================================================\nquestion  43\nword: grin\ncorrect:  smile\nmodel answer:  exercise\n================================================================================\nquestion  44\nword: verbally\ncorrect:  orally\nmodel answer:  verbosely\n================================================================================\nquestion  45\nword: physician\ncorrect:  doctor\nmodel answer:  pharmacist\n================================================================================\nquestion  46\nword: essentially\ncorrect:  basically\nmodel answer:  basically\n================================================================================\nquestion  47\nword: keen\ncorrect:  sharp\nmodel answer:  famous\n================================================================================\nquestion  48\nword: situated\ncorrect:  positioned\nmodel answer:  emptying\n================================================================================\nquestion  49\nword: principal\ncorrect:  major\nmodel answer:  most\n================================================================================\nquestion  50\nword: slowly\ncorrect:  gradually\nmodel answer:  gradually\n================================================================================\nquestion  51\nword: built\ncorrect:  constructed\nmodel answer:  proposed\n================================================================================\nquestion  52\nword: tasks\ncorrect:  jobs\nmodel answer:  materials\n================================================================================\nquestion  53\nword: unlikely\ncorrect:  improbable\nmodel answer:  disagreeable\n================================================================================\nquestion  55\nword: annals\ncorrect:  chronicles\nmodel answer:  trails\n================================================================================\nquestion  56\nword: wildly\ncorrect:  furiously\nmodel answer:  furiously\n================================================================================\nquestion  57\nword: hailed\ncorrect:  acclaimed\nmodel answer:  acclaimed\n================================================================================\nquestion  58\n"
     ]
    },
    {
     "name": "stdout",
     "output_type": "stream",
     "text": [
      "word: command\ncorrect:  mastery\nmodel answer:  love\n================================================================================\nquestion  59\nword: concocted\ncorrect:  devised\nmodel answer:  supervised\n================================================================================\nquestion  60\nword: prospective\ncorrect:  potential\nmodel answer:  prominent\n================================================================================\nquestion  61\nword: generally\ncorrect:  broadly\nmodel answer:  broadly\n================================================================================\nquestion  62\nword: sustained\ncorrect:  prolonged\nmodel answer:  analyzed\n================================================================================\nquestion  63\nword: perilous\ncorrect:  dangerous\nmodel answer:  exciting\n================================================================================\nquestion  64\nword: tranquillity\ncorrect:  peacefulness\nmodel answer:  happiness\n================================================================================\nquestion  65\nword: dissipate\ncorrect:  disperse\nmodel answer:  disguise\n================================================================================\nquestion  66\nword: primarily\ncorrect:  chiefly\nmodel answer:  consistently\n================================================================================\nquestion  67\nword: colloquial\ncorrect:  conversational\nmodel answer:  incorrect\n================================================================================\nquestion  68\nword: resolved\ncorrect:  settled\nmodel answer:  forgotten\n================================================================================\nquestion  69\nword: feasible\ncorrect:  possible\nmodel answer:  equitable\n================================================================================\nquestion  70\n"
     ]
    },
    {
     "name": "stdout",
     "output_type": "stream",
     "text": [
      "word: expeditiously\ncorrect:  rapidly\nmodel answer:  rapidly\n================================================================================\nquestion  71\nword: percentage\ncorrect:  proportion\nmodel answer:  sample\n================================================================================\nquestion  72\nword: terminated\ncorrect:  ended\nmodel answer:  posed\n================================================================================\nquestion  73\nword: uniform\ncorrect:  alike\nmodel answer:  sharp\n================================================================================\nquestion  74\nword: figure\ncorrect:  solve\nmodel answer:  list\n================================================================================\nquestion  75\nword: sufficient\ncorrect:  enough\nmodel answer:  physiological\n================================================================================\nquestion  76\nword: fashion\ncorrect:  manner\nmodel answer:  manner\n================================================================================\nquestion  77\nword: marketed\ncorrect:  sold\nmodel answer:  sold\n================================================================================\nquestion  78\nword: bigger\ncorrect:  larger\nmodel answer:  larger\n================================================================================\nquestion  79\nword: roots\ncorrect:  origins\nmodel answer:  rituals\n================================================================================\nquestion  80\nword: normally\ncorrect:  ordinarily\nmodel answer:  permanently\n================================================================================\n"
     ]
    }
   ],
   "source": [
    "# load toefl\n",
    "questions_file = data_dir + \"toefl/questions.csv\"\n",
    "answers_file = data_dir + \"toefl/answers.csv\"\n",
    "\n",
    "toefl = TOEFLReader(questions_file=questions_file, answers_file=answers_file)\n",
    "\n",
    "# words in toelf and not in index\n",
    "toefl_remove = set(w for w in toefl.words if not index.contains(w))\n",
    "print(\"=\"*80)\n",
    "for (i, question) in enumerate(toefl.questions):\n",
    "    question_w = question[0]\n",
    "    answer_ws = question[1]\n",
    "    # print(question)\n",
    "    answer_w = toefl.answer(i)\n",
    "    # print(aw[answer])\n",
    "\n",
    "    words = set([question_w] + answer_ws)\n",
    "    num_questions = 0\n",
    "    # ignore questions for wich we have no word data\n",
    "    if words.isdisjoint(toefl_remove):\n",
    "        \n",
    "        print(\"question \",i+1)\n",
    "        # question word vector\n",
    "        question_vector = get_vector(question_w)\n",
    "        answer_vectors = [get_vector(word) for word in answer_ws]\n",
    "        sims = [cosine(question_vector,v) for v in answer_vectors]\n",
    "        model_answer = answer_ws[np.argmax(sims)]\n",
    "\n",
    "        print(\"word:\", question_w)\n",
    "        print(\"correct: \",answer_ws[answer_w])\n",
    "        print(\"model answer: \",model_answer)\n",
    "\n",
    "        #print(sims)\n",
    "        \n",
    "        #print(question)\n",
    "        print(\"=\"*80)"
   ]
  }
 ],
 "metadata": {
  "kernelspec": {
   "display_name": "Python 2",
   "language": "python",
   "name": "python2"
  },
  "language_info": {
   "codemirror_mode": {
    "name": "ipython",
    "version": 2.0
   },
   "file_extension": ".py",
   "mimetype": "text/x-python",
   "name": "python",
   "nbconvert_exporter": "python",
   "pygments_lexer": "ipython2",
   "version": "2.7.6"
  }
 },
 "nbformat": 4,
 "nbformat_minor": 0
}