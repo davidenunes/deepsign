{
 "cells": [
  {
   "cell_type": "code",
   "execution_count": 5,
   "metadata": {
    "collapsed": true
   },
   "outputs": [],
   "source": [
    "%matplotlib inline\n",
    "\n",
    "import os\n",
    "import numpy as np\n",
    "from deepsign.rp.index import TrieSignIndex as Index\n",
    "from deepsign.io.datasets.toefl import TOEFLReader\n",
    "\n",
    "import matplotlib.pyplot as plt\n",
    "\n",
    "\n",
    "\n",
    "from sklearn.decomposition import PCA\n",
    "from deepsign.utils.measure import cosine\n",
    "import sklearn.preprocessing as process\n",
    "\n",
    "\n",
    "# model params\n",
    "k = 1000\n",
    "s = 10\n",
    "h_dim = 300\n",
    "\n",
    "home = os.getenv(\"HOME\")\n",
    "data_dir = home + \"/data/datasets/\"\n",
    "result_dir = home + \"/data/results/nrp/sparsemax/\"\n",
    "\n",
    "model_suffix = \"{k}_{s}_h{h}\".format(k=k,s=s,h=h_dim)\n",
    "index_file = result_dir + \"index_\"+model_suffix+\".hdf5\"\n",
    "model_file = result_dir + \"model_\"+model_suffix\n",
    "embeddings_file = result_dir + \"embeddings_\"+model_suffix+\".npy\""
   ]
  },
  {
   "cell_type": "code",
   "execution_count": 6,
   "metadata": {},
   "outputs": [],
   "source": [
    "# load index\n",
    "index = Index.load(index_file)"
   ]
  },
  {
   "cell_type": "code",
   "execution_count": 12,
   "metadata": {},
   "outputs": [],
   "source": [
    "# load embeddings\n",
    "embeddings = np.load(embeddings_file)\n",
    "#embeddings = process.normalize(embeddings, norm='l2')\n",
    "\n",
    "\n",
    "def get_vector(word):\n",
    "    word_ri = index.get_ri(word).to_vector()\n",
    "    return np.matmul(word_ri, embeddings)"
   ]
  },
  {
   "cell_type": "markdown",
   "metadata": {},
   "source": [
    "# TOEFL Synonym test"
   ]
  },
  {
   "cell_type": "code",
   "execution_count": 13,
   "metadata": {
    "collapsed": true
   },
   "outputs": [
    {
     "name": "stdout",
     "output_type": "stream",
     "text": [
      "enormously\n['appropriately', 'uniquely', 'tremendously', 'decidedly']\n[0.011491636501584022, 0.0096802328695792961, 0.012534525460166429, 0.024238033276728944]\nprovisions\n['stipulations', 'interrelations', 'jurisdictions', 'interpretations']\n[0.063762033373898061, -0.03698908893707914, -0.0562622270887723, -0.037127123406473519]\nhaphazardly\n['dangerously', 'densely', 'randomly', 'linearly']\n[-0.026113214519812872, 0.17344900355399578, 0.20291160428725652, 0.14188036035959223]\nprominent\n['battered', 'ancient', 'mysterious', 'conspicuous']\n[0.011622830388636056, 0.093300520241635862, -0.1087420642341055, 0.16289149896679572]\nzenith\n['completion', 'pinnacle', 'outset', 'decline']\n[0.072456842771212421, -0.0041126617238175798, -0.081147676801483284, -0.063799093481665792]\nflawed\n['tiny', 'imperfect', 'lustrous', 'crude']\n[-0.099065349886862664, -0.022550864492755188, 0.097163234183635858, -0.01915697621573418]\nurgently\n['typically', 'conceivably', 'tentatively', 'desperately']\n[-0.10864484365955496, -0.031464136324922717, -0.14420398965113693, -0.077722548695732349]\nconsumed\n['bred', 'caught', 'eaten', 'supplied']\n[-0.089788344116697366, 0.027748866917322545, -0.073957152391432218, 0.092351788343264352]\nadvent\n['coming', 'arrest', 'financing', 'stability']\n[-0.013593633482668968, 0.10927272973810374, 0.031106093882037677, -0.035659041980611005]\nconcisely\n['powerfully', 'positively', 'freely', 'succinctly']\n[-0.0018681589180957118, -0.00077501207591177659, 0.092590527956635929, 0.11216844400209539]\nsalutes\n['information', 'ceremonies', 'greetings', 'privileges']\n[-0.088783601429645781, -0.020044722403006279, 0.018164469435657929, 0.13820118322887923]\nsolitary\n['alert', 'restless', 'alone', 'fearless']\n[-0.065492110566835002, -0.071608986326187396, -0.020526317463835448, -0.12008236683049908]\nhasten\n['permit', 'determine', 'accelerate', 'accompany']\n[0.076998756820945494, -0.11411531845048913, 0.10888574137724881, 0.11543550102159712]\nperseverance\n['endurance', 'skill', 'generosity', 'disturbance']\n[-0.20316689157783013, 0.028952065729081201, -0.0064783875612787496, 0.09736597818895347]\nfanciful\n['familiar', 'imaginative', 'apparent', 'logical']\n[-0.14386873977828166, -0.036759058232853574, -0.020080651669670102, -0.095261128928504704]\nshowed\n['demonstrated', 'published', 'repeated', 'postponed']\n[0.083983050511869745, 0.042976253803348789, 0.088989005687359943, -0.0224112142675785]\nconstantly\n['instantly', 'continually', 'rapidly', 'accidentally']\n[-0.13367405745246677, 0.089692032487566589, 0.019655354799530532, -0.046429348203771842]\nissues\n['training', 'salaries', 'subjects', 'benefits']\n[0.093263726763244126, 0.0072273532440075769, 0.050147226416375118, -0.0073597967258306916]\nfurnish\n['supply', 'impress', 'protect', 'advise']\n[-0.13906610037269013, -0.010890679272013561, 0.027057004570012567, 0.069843674556771429]\ncostly\n['expensive', 'beautiful', 'popular', 'complicated']\n[-0.1058538839552402, -0.038621046817322841, -0.032722295631818464, -0.04741521224540015]\nrecognized\n['successful', 'depicted', 'acknowledged', 'welcomed']\n[-0.074300399607141715, 0.060964674555456538, 0.12129869810889436, -0.08287434444144462]\nspot\n['climate', 'latitude', 'sea', 'location']\n[-0.095454646258689477, -0.046510823415773332, -0.037986319611243755, -0.1145059286401328]\nmake\n['earn', 'print', 'trade', 'borrow']\n[-0.0023892621600229993, -0.030579780632584899, 0.087666157826007743, 0.039183781694890826]\noften\n['definitely', 'frequently', 'chemically', 'hardly']\n[-0.061828775963538959, 0.008947433074679819, -0.062110250584952911, -0.04984384808856427]\neasygoing\n['frontier', 'boring', 'farming', 'relaxed']\n[-0.062081623144526095, 0.085473966630479362, 0.10480937206431455, -0.10040499199230718]\ndebate\n['war', 'argument', 'election', 'competition']\n[0.0090787334590694303, -0.1328223054084007, -0.019479353940422779, 0.077592546066869841]\nnarrow\n['clear', 'freezing', 'thin', 'poisonous']\n[-0.026762765542875454, 0.013550060606954087, 0.022726743542160879, 0.0038796803054095132]\narranged\n['planned', 'explained', 'studied', 'discarded']\n[-0.11558112448150364, -0.0040943677028353947, 0.02227415022352762, -0.012373377228472832]\ninfinite\n['limitless', 'relative', 'unusual', 'structural']\n[0.080871912426965481, 0.011442623703509973, 0.050019639795068321, -0.19508939506340928]\nshowy\n['striking', 'prickly', 'entertaining', 'incidental']\n[0.028767261380931157, -0.087588742433893238, -0.062086972610309488, 0.034201547013813276]\nlevied\n['imposed', 'believed', 'requested', 'correlated']\n[-0.18999974382060278, 0.061861923013294816, -0.029411342170297804, -0.033913111375606944]\ndeftly\n['skillfully', 'prudently', 'occasionally', 'humorously']\n[0.18918585925844567, -0.076813734354151342, -0.096108670245626832, 0.0066554420406109661]\ndistribute\n['commercialize', 'circulate', 'research', 'acknowledge']\n[0.077849767526228436, 0.091773141483350987, -0.028816384504398263, -0.017176738925427384]\ndiscrepancies\n['weights', 'deposits', 'wavelengths', 'differences']\n[0.084171194367890764, -0.077566817446764511, 0.099498179261580805, -0.066476206013588224]\nprolific\n['productive', 'serious', 'capable', 'promising']\n[0.0088042176868318583, -0.034266320703660716, 0.059293247662980358, -0.017445652449315705]\npeculiarly\n['partly', 'uniquely', 'patriotically', 'suspiciously']\n[-0.027108226941705348, -0.038814519629653259, -0.044624541847264894, -0.010445767168229239]\nhue\n['glare', 'contrast', 'color', 'scent']\n[-0.052366428989486062, 0.0015687784146770458, -0.0044656898981436047, 0.038753334006337646]\nhind\n['curved', 'muscular', 'hairy', 'rear']\n[0.10574367281139735, -0.011998449319201293, -0.061369761244638159, 0.047705483816897785]\nhighlight\n['alter', 'imitate', 'accentuate', 'restore']\n[0.01171749656129306, -0.065698420325628976, 0.096612476184661261, -0.014297752714657917]\nhastily\n['hurriedly', 'shrewdly', 'habitually', 'chronologically']\n[-0.10432593336634234, 0.070335441884742181, -0.084858577173734018, -0.0032309188902693723]\ntemperate\n['cold', 'mild', 'short', 'windy']\n[0.052973560566388342, 0.16044560580057174, 0.021073215576734802, 0.029379388781182292]\ngrin\n['exercise', 'rest', 'joke', 'smile']\n[-0.0081997087425058797, 0.039016889021729645, -0.11244285383559104, 0.030750227482371623]\nverbally\n['orally', 'overtly', 'fittingly', 'verbosely']\n[0.063942980375800151, 0.0023057352734439486, -0.012897858498539836, 0.010325315206812506]\nphysician\n['chemist', 'pharmacist', 'nurse', 'doctor']\n[-0.15772573818484667, -0.0054415011949343131, -0.0031021339104700956, 0.052048766622755829]\nessentially\n['possibly', 'eagerly', 'basically', 'ordinarily']\n[-0.0055697472508463904, 0.20023626308781006, 0.021454033829617497, 0.070234467739870438]\nkeen\n['useful', 'simple', 'famous', 'sharp']\n[-0.072098226513864827, -0.0904593604363544, 0.031365482490077826, 0.011481367603312913]\nsituated\n['rotating', 'isolated', 'emptying', 'positioned']\n[0.058936720629589406, -0.044676021444258369, 0.04129267275678563, 0.027609020488383196]\nprincipal\n['most', 'numerous', 'major', 'exceptional']\n[0.012481168332227822, 0.06445289773904711, -0.078605015163914382, 0.050720360547495458]\nslowly\n['rarely', 'gradually', 'effectively', 'continuously']\n[-0.18144160207360935, -0.019300959859804203, -0.029820468483974641, 0.062553912820625571]\nbuilt\n['constructed', 'proposed', 'financed', 'organized']\n[-0.05234466576830174, 0.050496888520302957, 0.048722244653344939, -0.077964099347279464]\ntasks\n['customers', 'materials', 'shops', 'jobs']\n[0.0076749937937760733, -0.19104037595390139, -0.11201972251959975, 0.01000079462915973]\nunlikely\n['improbable', 'disagreeable', 'different', 'unpopular']\n[-0.058773554287756699, 0.0084470364138530263, 0.18208092500560691, 0.01061944360123373]\nannals\n['homes', 'trails', 'chronicles', 'songs']\n[-0.0045212595710041343, -0.060846547975427823, 0.0082701889707701166, 0.047407349664156835]\nwildly\n['distinctively', 'mysteriously', 'abruptly', 'furiously']\n[-0.058331760528221532, 0.022432982391925739, 0.06453665741673946, -0.047722361662888423]\nhailed\n['judged', 'acclaimed', 'remembered', 'addressed']\n[0.09484750620700276, -0.092535990517410446, 0.025815460724247626, -0.20892899176503668]\ncommand\n['observation', 'love', 'awareness', 'mastery']\n[-0.047153940023570401, -0.05140160282431127, -0.048321942922217025, 0.17330611354811748]\nconcocted\n['devised', 'cleaned', 'requested', 'supervised']\n[0.15865998812210078, -0.011535258060312517, 0.016434571113827765, 0.056324972793908398]\n"
     ]
    },
    {
     "name": "stdout",
     "output_type": "stream",
     "text": [
      "prospective\n['particular', 'prudent', 'potential', 'prominent']\n[-0.029001906744342238, -0.086839050802023338, -0.07302869590690908, 0.039499455896703763]\ngenerally\n['descriptively', 'broadly', 'controversially', 'accurately']\n[0.0416395177362145, 0.018378258606046822, -0.055608890246930269, -0.11499566385767082]\nsustained\n['prolonged', 'refined', 'lowered', 'analyzed']\n[-0.043896387677343961, 0.074534793747404723, -0.049674870491764382, -0.017342548847280318]\nperilous\n['binding', 'exciting', 'offensive', 'dangerous']\n[-0.096765202836478562, 0.025543169430227292, -0.074423093192798412, -0.091669186001358843]\ntranquillity\n['peacefulness', 'harshness', 'weariness', 'happiness']\n[0.17965325928856765, -0.030594793826545268, 0.10631271866854436, -0.077253335625902642]\ndissipate\n['disperse', 'isolate', 'disguise', 'photograph']\n[0.10587985423109807, -0.10962844663633191, 0.045634482789033981, 0.050937910003636018]\nprimarily\n['occasionally', 'cautiously', 'consistently', 'chiefly']\n[-0.025489274939967398, -0.037664556536592932, -0.091576734475181651, 0.069909109198892885]\ncolloquial\n['recorded', 'misunderstood', 'incorrect', 'conversational']\n[-0.11233779672399366, 0.087474950780930288, -0.013812537607031584, -0.02186110302532291]\nresolved\n['publicized', 'forgotten', 'settled', 'examined']\n[-0.057524456962253667, 0.010055455962941549, -0.070181404081550214, 0.05777108914497598]\nfeasible\n['permitted', 'possible', 'equitable', 'evident']\n[0.056746706550643129, 0.037037888872439556, -0.037517538469547924, -0.064418314438042454]\nexpeditiously\n['frequently', 'actually', 'rapidly', 'repeatedly']\n[-0.12903087946740183, -0.087230572858578548, 0.12595851728095162, -0.0016654045618741398]\npercentage\n['volume', 'sample', 'proportion', 'profit']\n[0.14818503585281073, 0.12779104317279549, 0.0072080113293885003, -0.09690905102586389]\nterminated\n['ended', 'posed', 'postponed', 'evaluated']\n[-0.097565193967356412, 0.1252598892763809, -0.075272567505850624, -0.045250335667801574]\nuniform\n['hard', 'complex', 'alike', 'sharp']\n[-0.14920096051453607, -0.064908119516483828, -0.20339538358968032, -0.0099563084673702593]\nfigure\n['list', 'solve', 'divide', 'express']\n[0.034156336997248016, -0.16276527569932325, 0.015866970630735111, -0.07447610201406947]\nsufficient\n['recent', 'physiological', 'enough', 'valuable']\n[-0.15685856233798262, -0.14759883809929666, 0.14605813558825267, 0.14632892359965902]\nfashion\n['ration', 'fathom', 'craze', 'manner']\n[-0.055949157220880001, 0.021205262144266955, -0.043947974262192185, 0.022687737848856509]\nmarketed\n['frozen', 'sold', 'sweetened', 'diluted']\n[-0.026755846087038928, -0.073125979298140631, -0.20325652152738735, 0.049956930357518609]\nbigger\n['steadier', 'closer', 'larger', 'better']\n[0.0066235970217646189, -0.11665547002906571, -0.0017380260804956181, 0.062914824498506841]\nroots\n['origins', 'rituals', 'cure', 'function']\n[-0.01589091760838084, -0.022649299012652013, -0.07665660355759038, -0.085220536555910359]\nnormally\n['haltingly', 'ordinarily', 'permanently', 'periodically']\n[-0.036857200382921451, 0.02681175184023234, 0.084360490957294282, -0.028043407299158166]\nModel Accuracy:  32.05128205128205\n"
     ]
    }
   ],
   "source": [
    "# load toefl\n",
    "print_questions = False\n",
    "questions_file = data_dir + \"toefl/questions.csv\"\n",
    "answers_file = data_dir + \"toefl/answers.csv\"\n",
    "\n",
    "toefl = TOEFLReader(questions_file=questions_file, answers_file=answers_file)\n",
    "\n",
    "num_correct = 0\n",
    "num_questions = 0\n",
    "# words in toelf and not in index\n",
    "toefl_remove = set(w for w in toefl.words if not index.contains(w))\n",
    "for (i, question) in enumerate(toefl.questions):\n",
    "    question_w = question[0]\n",
    "    answer_ws = question[1]\n",
    "    # print(question)\n",
    "    answer_index = toefl.answer(i)\n",
    "    # print(aw[answer])\n",
    "\n",
    "    words = set([question_w] + answer_ws)\n",
    "\n",
    "    # ignore questions for wich we have no word data\n",
    "    if words.isdisjoint(toefl_remove):\n",
    "        # question word vector\n",
    "        question_vector = get_vector(question_w)\n",
    "        answer_vectors = [get_vector(word) for word in answer_ws]\n",
    "        sims = [cosine(question_vector,v) for v in answer_vectors]\n",
    "        print(question_w)\n",
    "        print(answer_ws)\n",
    "        print(sims)\n",
    "        model_answer = answer_ws[np.argmax(sims)]\n",
    "\n",
    "        if print_questions:\n",
    "            print(\"question \",i+1)\n",
    "            print(\"word:\", question_w)\n",
    "            print(\"correct: \",answer_ws[answer_w])\n",
    "            print(\"model answer: \",answer_index)\n",
    "            print(\"=\"*80)\n",
    "\n",
    "        num_questions += 1\n",
    "        if model_answer == answer_ws[answer_index]:\n",
    "            num_correct += 1\n",
    "\n",
    "accuracy = num_correct / num_questions * 100\n",
    "print(\"Model Accuracy: \",accuracy)"
   ]
  },
  {
   "cell_type": "code",
   "execution_count": null,
   "metadata": {},
   "outputs": [],
   "source": [
    ""
   ]
  }
 ],
 "metadata": {
  "kernelspec": {
   "display_name": "Python 2",
   "language": "python",
   "name": "python2"
  },
  "language_info": {
   "codemirror_mode": {
    "name": "ipython",
    "version": 2
   },
   "file_extension": ".py",
   "mimetype": "text/x-python",
   "name": "python",
   "nbconvert_exporter": "python",
   "pygments_lexer": "ipython2",
   "version": "2.7.6"
  }
 },
 "nbformat": 4,
 "nbformat_minor": 0
}
