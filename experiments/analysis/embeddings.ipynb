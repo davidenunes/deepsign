{
 "cells": [
  {
   "cell_type": "code",
   "execution_count": 16,
   "metadata": {
    "collapsed": true
   },
   "outputs": [],
   "source": [
    "%matplotlib inline\n",
    "\n",
    "import os\n",
    "import numpy as np\n",
    "from deepsign.rp.index import TrieSignIndex as Index\n",
    "from deepsign.io.datasets.toefl import TOEFLReader\n",
    "import seaborn as sns\n",
    "import matplotlib.pyplot as plt\n",
    "import pandas as pd\n",
    "\n",
    "\n",
    "from sklearn.decomposition import PCA\n",
    "from deepsign.utils.measure import cosine\n",
    "\n",
    "\n",
    "# model dir\n",
    "home = os.getenv(\"HOME\")\n",
    "data_dir = home + \"/data/datasets/\"\n",
    "result_dir = home + \"/data/results/\"\n",
    "model_dir = result_dir + \"nrp/300d_reg_all/\"\n",
    "model_file = model_dir + \"model_bnc\"\n",
    "embeddings_file = model_dir + \"embeddings.npy\"\n",
    "index_file = model_dir + \"index.hdf5\""
   ]
  },
  {
   "cell_type": "code",
   "execution_count": 18,
   "metadata": {},
   "outputs": [
    {
     "name": "stderr",
     "output_type": "stream",
     "text": [
      "\r  0%|          | 0/468560 [00:00<?, ?it/s]"
     ]
    },
    {
     "name": "stderr",
     "output_type": "stream",
     "text": [
      "\r  1%|▏         | 6811/468560 [00:00<00:06, 68105.03it/s]"
     ]
    },
    {
     "name": "stderr",
     "output_type": "stream",
     "text": [
      "\r  4%|▎         | 17521/468560 [00:00<00:05, 76455.21it/s]"
     ]
    },
    {
     "name": "stderr",
     "output_type": "stream",
     "text": [
      "\r  6%|▌         | 25979/468560 [00:00<00:05, 78722.49it/s]"
     ]
    },
    {
     "name": "stderr",
     "output_type": "stream",
     "text": [
      "\r  7%|▋         | 33782/468560 [00:00<00:05, 78513.25it/s]"
     ]
    },
    {
     "name": "stderr",
     "output_type": "stream",
     "text": [
      "\r 10%|▉         | 44700/468560 [00:00<00:04, 85737.23it/s]"
     ]
    },
    {
     "name": "stderr",
     "output_type": "stream",
     "text": [
      "\r 12%|█▏        | 54918/468560 [00:00<00:04, 90085.28it/s]"
     ]
    },
    {
     "name": "stderr",
     "output_type": "stream",
     "text": [
      "\r 14%|█▍        | 64796/468560 [00:00<00:04, 92526.48it/s]"
     ]
    },
    {
     "name": "stderr",
     "output_type": "stream",
     "text": [
      "\r 16%|█▌        | 74245/468560 [00:00<00:04, 93105.43it/s]"
     ]
    },
    {
     "name": "stderr",
     "output_type": "stream",
     "text": [
      "\r 18%|█▊        | 84186/468560 [00:00<00:04, 94910.39it/s]"
     ]
    },
    {
     "name": "stderr",
     "output_type": "stream",
     "text": [
      "\r 20%|█▉        | 93517/468560 [00:01<00:05, 65257.64it/s]"
     ]
    },
    {
     "name": "stderr",
     "output_type": "stream",
     "text": [
      "\r 22%|██▏       | 103348/468560 [00:01<00:05, 72577.41it/s]"
     ]
    },
    {
     "name": "stderr",
     "output_type": "stream",
     "text": [
      "\r 24%|██▍       | 113436/468560 [00:01<00:04, 79246.57it/s]"
     ]
    },
    {
     "name": "stderr",
     "output_type": "stream",
     "text": [
      "\r 26%|██▋       | 123101/468560 [00:01<00:04, 83771.01it/s]"
     ]
    },
    {
     "name": "stderr",
     "output_type": "stream",
     "text": [
      "\r 28%|██▊       | 133129/468560 [00:01<00:03, 88123.10it/s]"
     ]
    },
    {
     "name": "stderr",
     "output_type": "stream",
     "text": [
      "\r 31%|███       | 143216/468560 [00:01<00:03, 91594.76it/s]"
     ]
    },
    {
     "name": "stderr",
     "output_type": "stream",
     "text": [
      "\r 33%|███▎      | 152803/468560 [00:01<00:03, 88277.86it/s]"
     ]
    },
    {
     "name": "stderr",
     "output_type": "stream",
     "text": [
      "\r 35%|███▍      | 163029/468560 [00:01<00:03, 92052.69it/s]"
     ]
    },
    {
     "name": "stderr",
     "output_type": "stream",
     "text": [
      "\r 37%|███▋      | 174060/468560 [00:01<00:03, 96862.06it/s]"
     ]
    },
    {
     "name": "stderr",
     "output_type": "stream",
     "text": [
      "\r 39%|███▉      | 184002/468560 [00:02<00:03, 90677.91it/s]"
     ]
    },
    {
     "name": "stderr",
     "output_type": "stream",
     "text": [
      "\r 42%|████▏     | 194485/468560 [00:02<00:02, 94503.52it/s]"
     ]
    },
    {
     "name": "stderr",
     "output_type": "stream",
     "text": [
      "\r 44%|████▎     | 204159/468560 [00:02<00:02, 94546.29it/s]"
     ]
    },
    {
     "name": "stderr",
     "output_type": "stream",
     "text": [
      "\r 46%|████▌     | 213770/468560 [00:02<00:02, 92463.71it/s]"
     ]
    },
    {
     "name": "stderr",
     "output_type": "stream",
     "text": [
      "\r 48%|████▊     | 223240/468560 [00:02<00:02, 93122.21it/s]"
     ]
    },
    {
     "name": "stderr",
     "output_type": "stream",
     "text": [
      "\r 50%|████▉     | 233317/468560 [00:02<00:02, 95289.65it/s]"
     ]
    },
    {
     "name": "stderr",
     "output_type": "stream",
     "text": [
      "\r 52%|█████▏    | 242918/468560 [00:02<00:02, 90148.04it/s]"
     ]
    },
    {
     "name": "stderr",
     "output_type": "stream",
     "text": [
      "\r 54%|█████▍    | 252041/468560 [00:02<00:02, 85137.24it/s]"
     ]
    },
    {
     "name": "stderr",
     "output_type": "stream",
     "text": [
      "\r 56%|█████▌    | 260688/468560 [00:02<00:02, 82477.62it/s]"
     ]
    },
    {
     "name": "stderr",
     "output_type": "stream",
     "text": [
      "\r 57%|█████▋    | 269047/468560 [00:03<00:02, 82138.98it/s]"
     ]
    },
    {
     "name": "stderr",
     "output_type": "stream",
     "text": [
      "\r 59%|█████▉    | 277340/468560 [00:03<00:03, 49652.99it/s]"
     ]
    },
    {
     "name": "stderr",
     "output_type": "stream",
     "text": [
      "\r 61%|██████    | 286031/468560 [00:03<00:03, 56980.60it/s]"
     ]
    },
    {
     "name": "stderr",
     "output_type": "stream",
     "text": [
      "\r 63%|██████▎   | 296756/468560 [00:03<00:02, 66302.14it/s]"
     ]
    },
    {
     "name": "stderr",
     "output_type": "stream",
     "text": [
      "\r 65%|██████▌   | 306017/468560 [00:03<00:02, 72477.94it/s]"
     ]
    },
    {
     "name": "stderr",
     "output_type": "stream",
     "text": [
      "\r 67%|██████▋   | 315378/468560 [00:03<00:01, 77742.91it/s]"
     ]
    },
    {
     "name": "stderr",
     "output_type": "stream",
     "text": [
      "\r 69%|██████▉   | 325232/468560 [00:03<00:01, 82997.05it/s]"
     ]
    },
    {
     "name": "stderr",
     "output_type": "stream",
     "text": [
      "\r 72%|███████▏  | 336234/468560 [00:03<00:01, 89599.14it/s]"
     ]
    },
    {
     "name": "stderr",
     "output_type": "stream",
     "text": [
      "\r 74%|███████▍  | 346363/468560 [00:04<00:01, 92811.92it/s]"
     ]
    },
    {
     "name": "stderr",
     "output_type": "stream",
     "text": [
      "\r 76%|███████▌  | 356474/468560 [00:04<00:01, 95154.62it/s]"
     ]
    },
    {
     "name": "stderr",
     "output_type": "stream",
     "text": [
      "\r 78%|███████▊  | 367317/468560 [00:04<00:01, 98780.47it/s]"
     ]
    },
    {
     "name": "stderr",
     "output_type": "stream",
     "text": [
      "\r 81%|████████  | 379827/468560 [00:04<00:00, 105433.47it/s]"
     ]
    },
    {
     "name": "stderr",
     "output_type": "stream",
     "text": [
      "\r 83%|████████▎ | 390711/468560 [00:04<00:00, 106087.08it/s]"
     ]
    },
    {
     "name": "stderr",
     "output_type": "stream",
     "text": [
      "\r 86%|████████▌ | 402012/468560 [00:04<00:00, 108068.60it/s]"
     ]
    },
    {
     "name": "stderr",
     "output_type": "stream",
     "text": [
      "\r 88%|████████▊ | 413152/468560 [00:04<00:00, 109046.56it/s]"
     ]
    },
    {
     "name": "stderr",
     "output_type": "stream",
     "text": [
      "\r 91%|█████████ | 424183/468560 [00:04<00:00, 106811.84it/s]"
     ]
    },
    {
     "name": "stderr",
     "output_type": "stream",
     "text": [
      "\r 93%|█████████▎| 435283/468560 [00:04<00:00, 108031.37it/s]"
     ]
    },
    {
     "name": "stderr",
     "output_type": "stream",
     "text": [
      "\r 95%|█████████▌| 446159/468560 [00:05<00:00, 103232.14it/s]"
     ]
    },
    {
     "name": "stderr",
     "output_type": "stream",
     "text": [
      "\r 97%|█████████▋| 456578/468560 [00:05<00:00, 82147.67it/s] "
     ]
    },
    {
     "name": "stderr",
     "output_type": "stream",
     "text": [
      "\r 99%|█████████▉| 465541/468560 [00:05<00:00, 75233.62it/s]"
     ]
    },
    {
     "name": "stderr",
     "output_type": "stream",
     "text": [
      "\r100%|██████████| 468560/468560 [00:05<00:00, 87231.33it/s]"
     ]
    },
    {
     "name": "stderr",
     "output_type": "stream",
     "text": [
      "\n"
     ]
    }
   ],
   "source": [
    "# load index\n",
    "index = Index.load(index_file)"
   ]
  },
  {
   "cell_type": "code",
   "execution_count": 13,
   "metadata": {},
   "outputs": [],
   "source": [
    "# load embeddings\n",
    "embeddings = np.load(embeddings_file)\n",
    "\n",
    "\n",
    "def get_vector(word):\n",
    "    word_ri = index.get_ri(word).to_vector()\n",
    "    return np.matmul(word_ri, embeddings)"
   ]
  },
  {
   "cell_type": "code",
   "execution_count": 14,
   "metadata": {},
   "outputs": [
    {
     "data": {
      "text/plain": [
       "<matplotlib.text.Text at 0x7f3dd7018b00>"
      ]
     },
     "execution_count": 14,
     "metadata": {},
     "output_type": "execute_result"
    },
    {
     "data": {
      "image/png": "[encoded data removed]",
      "text/plain": [
       "<matplotlib.figure.Figure at 0x7f3dd71f4a20>"
      ]
     },
     "metadata": {},
     "output_type": "display_data"
    }
   ],
   "source": [
    "lx_vector = get_vector(\"lisbon\")\n",
    "pt_vector = get_vector(\"portugal\")\n",
    "\n",
    "paris_vector = get_vector(\"paris\")\n",
    "fr_vector = get_vector(\"france\")\n",
    "\n",
    "# setup figure\n",
    "# Set up the matplotlib figure\n",
    "f, axes = plt.subplots(2, 2, figsize=(14, 7), sharex=True)\n",
    "sns.despine(left=True)\n",
    "sns.set(style=\"white\", context=\"paper\")\n",
    "\n",
    "sns.distplot(lx_vector,ax=axes[0,0])\n",
    "axes[0,0].set_title(\"Lisbon\")\n",
    "sns.distplot(pt_vector,ax=axes[0,1])\n",
    "axes[0,1].set_title(\"Portugal\")\n",
    "sns.distplot(fr_vector,ax=axes[1,0])\n",
    "axes[1,0].set_title(\"Paris\")\n",
    "sns.distplot(paris_vector,ax=axes[1,1])\n",
    "axes[1,1].set_title(\"France\")"
   ]
  },
  {
   "cell_type": "code",
   "execution_count": 6,
   "metadata": {
    "collapsed": true
   },
   "outputs": [
    {
     "data": {
      "image/png": "[encoded data removed]",
      "text/plain": [
       "<matplotlib.figure.Figure at 0x7f3e10271f98>"
      ]
     },
     "metadata": {},
     "output_type": "display_data"
    }
   ],
   "source": [
    "# this is bad depends on the corpus and model\n",
    "words = [\n",
    "    \"china\",\n",
    "    \"beijing\",\n",
    "    \"portugal\",\n",
    "    \"lisbon\",\n",
    "    \"madrid\",\n",
    "    \"spain\"\n",
    "]\n",
    "\n",
    "vectors = np.array([get_vector(w) for w in words])\n",
    "\n",
    "pca = PCA(n_components=2)\n",
    "projection = pca.fit(vectors).transform(vectors)\n",
    "\n",
    "\n",
    "sns.set(style=\"white\", context=\"paper\")\n",
    "fig, ax = plt.subplots()\n",
    "plt.scatter(projection[:,0],projection[:,1])\n",
    "\n",
    "for i,text in enumerate(words):\n",
    "    ax.annotate(text,(projection[i,0],projection[i,1]))"
   ]
  },
  {
   "cell_type": "markdown",
   "metadata": {},
   "source": [
    ""
   ]
  },
  {
   "cell_type": "code",
   "execution_count": 7,
   "metadata": {
    "collapsed": false
   },
   "outputs": [
    {
     "name": "stdout",
     "output_type": "stream",
     "text": [
      "================================================================================\nquestion  1\nword: enormously\ncorrect:  tremendously\nmodel answer:  tremendously\n================================================================================\nquestion  2\nword: provisions\ncorrect:  stipulations\nmodel answer:  interrelations\n================================================================================\nquestion  3\nword: haphazardly\ncorrect:  randomly\nmodel answer:  randomly\n================================================================================\nquestion  4\nword: prominent\ncorrect:  conspicuous\nmodel answer:  conspicuous\n================================================================================\nquestion  5\nword: zenith\ncorrect:  pinnacle\nmodel answer:  completion\n================================================================================\nquestion  6\nword: flawed\ncorrect:  imperfect\nmodel answer:  lustrous\n================================================================================\nquestion  7\nword: urgently\ncorrect:  desperately\nmodel answer:  conceivably\n================================================================================\nquestion  8\nword: consumed\ncorrect:  eaten\nmodel answer:  bred\n================================================================================\nquestion  9\nword: advent\ncorrect:  coming\nmodel answer:  stability\n================================================================================\nquestion  10\nword: concisely\ncorrect:  succinctly\nmodel answer:  succinctly\n================================================================================\nquestion  11\nword: salutes\ncorrect:  greetings\nmodel answer:  ceremonies\n================================================================================\nquestion  12\nword: solitary\ncorrect:  alone\nmodel answer:  alone\n================================================================================\nquestion  13\nword: hasten\ncorrect:  accelerate\nmodel answer:  accompany\n================================================================================\nquestion  14\nword: perseverance\ncorrect:  endurance\nmodel answer:  skill\n================================================================================\nquestion  15\nword: fanciful\ncorrect:  imaginative\nmodel answer:  familiar\n================================================================================\nquestion  16\nword: showed\ncorrect:  demonstrated\nmodel answer:  published\n================================================================================\nquestion  17\nword: constantly\ncorrect:  continually\nmodel answer:  instantly\n================================================================================\nquestion  18\nword: issues\ncorrect:  subjects\nmodel answer:  training\n================================================================================\nquestion  19\nword: furnish\ncorrect:  supply\nmodel answer:  impress\n================================================================================\nquestion  20\nword: costly\ncorrect:  expensive\nmodel answer:  expensive\n================================================================================\nquestion  21\nword: recognized\ncorrect:  acknowledged\nmodel answer:  acknowledged\n================================================================================\nquestion  22\nword: spot\ncorrect:  location\nmodel answer:  location\n================================================================================\nquestion  23\nword: make\ncorrect:  earn\nmodel answer:  borrow\n================================================================================\nquestion  24\nword: often\ncorrect:  frequently\nmodel answer:  definitely\n================================================================================\nquestion  25\nword: easygoing\ncorrect:  relaxed\nmodel answer:  farming\n================================================================================\nquestion  26\nword: debate\ncorrect:  argument\nmodel answer:  election\n================================================================================\nquestion  27\nword: narrow\ncorrect:  thin\nmodel answer:  freezing\n================================================================================\nquestion  28\nword: arranged\ncorrect:  planned\nmodel answer:  planned\n================================================================================\nquestion  29\nword: infinite\ncorrect:  limitless\nmodel answer:  unusual\n================================================================================\nquestion  30\nword: showy\ncorrect:  striking\nmodel answer:  incidental\n================================================================================\nquestion  31\nword: levied\ncorrect:  imposed\nmodel answer:  correlated\n================================================================================\nquestion  32\nword: deftly\ncorrect:  skillfully\nmodel answer:  occasionally\n================================================================================\nquestion  33\nword: distribute\ncorrect:  circulate\nmodel answer:  research\n================================================================================\nquestion  34\nword: discrepancies\ncorrect:  differences\nmodel answer:  differences\n================================================================================\nquestion  35\nword: prolific\ncorrect:  productive\nmodel answer:  capable\n================================================================================\nquestion  37\nword: peculiarly\ncorrect:  uniquely\nmodel answer:  uniquely\n================================================================================\nquestion  38\nword: hue\ncorrect:  color\nmodel answer:  color\n================================================================================\nquestion  39\nword: hind\ncorrect:  rear\nmodel answer:  muscular\n================================================================================\nquestion  40\nword: highlight\ncorrect:  accentuate\nmodel answer:  accentuate\n================================================================================\nquestion  41\n"
     ]
    },
    {
     "name": "stdout",
     "output_type": "stream",
     "text": [
      "word: hastily\ncorrect:  hurriedly\nmodel answer:  hurriedly\n================================================================================\nquestion  42\nword: temperate\ncorrect:  mild\nmodel answer:  windy\n================================================================================\nquestion  43\nword: grin\ncorrect:  smile\nmodel answer:  exercise\n================================================================================\nquestion  44\nword: verbally\ncorrect:  orally\nmodel answer:  verbosely\n================================================================================\nquestion  45\nword: physician\ncorrect:  doctor\nmodel answer:  pharmacist\n================================================================================\nquestion  46\nword: essentially\ncorrect:  basically\nmodel answer:  basically\n================================================================================\nquestion  47\nword: keen\ncorrect:  sharp\nmodel answer:  famous\n================================================================================\nquestion  48\nword: situated\ncorrect:  positioned\nmodel answer:  emptying\n================================================================================\nquestion  49\nword: principal\ncorrect:  major\nmodel answer:  most\n================================================================================\nquestion  50\nword: slowly\ncorrect:  gradually\nmodel answer:  gradually\n================================================================================\nquestion  51\nword: built\ncorrect:  constructed\nmodel answer:  proposed\n================================================================================\nquestion  52\nword: tasks\ncorrect:  jobs\nmodel answer:  materials\n================================================================================\nquestion  53\nword: unlikely\ncorrect:  improbable\nmodel answer:  disagreeable\n================================================================================\nquestion  55\nword: annals\ncorrect:  chronicles\nmodel answer:  trails\n================================================================================\nquestion  56\nword: wildly\ncorrect:  furiously\nmodel answer:  furiously\n================================================================================\nquestion  57\nword: hailed\ncorrect:  acclaimed\nmodel answer:  acclaimed\n================================================================================\nquestion  58\nword: command\ncorrect:  mastery\nmodel answer:  love\n================================================================================\nquestion  59\nword: concocted\ncorrect:  devised\nmodel answer:  supervised\n================================================================================\nquestion  60\nword: prospective\ncorrect:  potential\nmodel answer:  prominent\n================================================================================\nquestion  61\nword: generally\ncorrect:  broadly\nmodel answer:  broadly\n================================================================================\nquestion  62\nword: sustained\ncorrect:  prolonged\nmodel answer:  analyzed\n================================================================================\nquestion  63\nword: perilous\ncorrect:  dangerous\nmodel answer:  exciting\n================================================================================\nquestion  64\nword: tranquillity\ncorrect:  peacefulness\nmodel answer:  happiness\n================================================================================\nquestion  65\nword: dissipate\ncorrect:  disperse\nmodel answer:  disguise\n================================================================================\nquestion  66\nword: primarily\ncorrect:  chiefly\nmodel answer:  consistently\n================================================================================\nquestion  67\nword: colloquial\ncorrect:  conversational\nmodel answer:  incorrect\n================================================================================\nquestion  68\nword: resolved\ncorrect:  settled\nmodel answer:  forgotten\n================================================================================\nquestion  69\nword: feasible\ncorrect:  possible\nmodel answer:  equitable\n================================================================================\nquestion  70\nword: expeditiously\ncorrect:  rapidly\nmodel answer:  rapidly\n================================================================================\nquestion  71\nword: percentage\ncorrect:  proportion\nmodel answer:  sample\n================================================================================\nquestion  72\nword: terminated\ncorrect:  ended\nmodel answer:  posed\n================================================================================\nquestion  73\n"
     ]
    },
    {
     "name": "stdout",
     "output_type": "stream",
     "text": [
      "word: uniform\ncorrect:  alike\nmodel answer:  sharp\n================================================================================\nquestion  74\nword: figure\ncorrect:  solve\nmodel answer:  list\n================================================================================\nquestion  75\nword: sufficient\ncorrect:  enough\nmodel answer:  physiological\n================================================================================\nquestion  76\nword: fashion\ncorrect:  manner\nmodel answer:  manner\n================================================================================\nquestion  77\nword: marketed\ncorrect:  sold\nmodel answer:  sold\n================================================================================\nquestion  78\nword: bigger\ncorrect:  larger\nmodel answer:  larger\n================================================================================\nquestion  79\nword: roots\ncorrect:  origins\nmodel answer:  rituals\n================================================================================\nquestion  80\nword: normally\ncorrect:  ordinarily\nmodel answer:  permanently\n================================================================================\n"
     ]
    }
   ],
   "source": [
    ""
   ]
  },
  {
   "cell_type": "code",
   "execution_count": null,
   "metadata": {},
   "outputs": [],
   "source": [
    ""
   ]
  }
 ],
 "metadata": {
  "kernelspec": {
   "display_name": "Python 2",
   "language": "python",
   "name": "python2"
  },
  "language_info": {
   "codemirror_mode": {
    "name": "ipython",
    "version": 2.0
   },
   "file_extension": ".py",
   "mimetype": "text/x-python",
   "name": "python",
   "nbconvert_exporter": "python",
   "pygments_lexer": "ipython2",
   "version": "2.7.6"
  }
 },
 "nbformat": 4,
 "nbformat_minor": 0
}